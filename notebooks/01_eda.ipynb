{
 "cells": [
  {
   "cell_type": "code",
   "execution_count": null,
   "id": "450423b9",
   "metadata": {},
   "outputs": [],
   "source": [
    "import os\n",
    "import pandas as pd\n",
    "\n",
    "RAW_PATH = os.path.expanduser(\"../data/Telematicsdata.csv\")\n",
    "df = pd.read_csv(RAW_PATH)\n",
    "\n",
    "df.columns = df.columns.str.lower()\n",
    "\n",
    "df[\"timestamp\"] = pd.to_datetime(df[\"timemili\"], unit=\"ms\").dt.tz_localize(\"UTC\")"
   ]
  },
  {
   "cell_type": "code",
   "execution_count": null,
   "id": "17646623",
   "metadata": {},
   "outputs": [],
   "source": [
    "print(df[\"variable\"].value_counts())"
   ]
  },
  {
   "cell_type": "code",
   "execution_count": null,
   "id": "2e2641ac",
   "metadata": {},
   "outputs": [],
   "source": [
    "def tidy_events(raw):\n",
    "    out = []\n",
    "\n",
    "    for _, row in raw.iterrows():\n",
    "        var = row[\"variable\"]\n",
    "        val = row[\"value\"]\n",
    "\n",
    "        if var == \"POSITION\":\n",
    "            lat, lon, alt = map(float, val.split(\",\"))\n",
    "            out.append({\n",
    "                \"device_id\": row[\"deviceid\"],\n",
    "                \"timestamp\": row[\"timestamp\"],\n",
    "                \"lat\": lat,\n",
    "                \"lon\": lon,\n",
    "                \"alt\": alt,\n",
    "                \"event\": \"position\"\n",
    "            })\n",
    "\n",
    "        elif var in {\"INTERNAL BATTERY\", \"EXTERNAL BATTERY\"}:\n",
    "            out.append({\n",
    "                \"device_id\": row[\"deviceid\"],\n",
    "                \"timestamp\": row[\"timestamp\"],\n",
    "                var.lower().replace(\" \", \"_\"): float(val)\n",
    "            })\n",
    "\n",
    "        elif var in {\"IGNITION_STATUS\", \"TOWING\"}:\n",
    "            out.append({\n",
    "                \"device_id\": row[\"deviceid\"],\n",
    "                \"timestamp\": row[\"timestamp\"],\n",
    "                var.lower().replace(\" \", \"_\"): int(val in {\"true\", \"on\", \"1\"})\n",
    "            })\n",
    "\n",
    "    return pd.DataFrame(out)\n",
    "\n",
    "clean = tidy_events(df)"
   ]
  },
  {
   "cell_type": "code",
   "execution_count": null,
   "id": "07965d42",
   "metadata": {},
   "outputs": [],
   "source": [
    "# A \"trip\" == consecutive records with ignition ON, grouped by device & date\n",
    "clean[\"ignition_on\"] = clean.get(\"ignition_status\", 0)     # col may be NaN for rows w/o that variable\n",
    "clean[\"date\"] = clean[\"timestamp\"].dt.date\n",
    "clean[\"trip_id\"] = (clean[\"ignition_on\"].diff().fillna(0) == 1).cumsum()\n",
    "\n",
    "# Harsh-brake proxy: rapid drop in speed (if you later add speed data) or towing alarm\n",
    "clean[\"harsh_flag\"] = clean.get(\"towing\", 0)\n"
   ]
  },
  {
   "cell_type": "code",
   "execution_count": null,
   "id": "135875f8",
   "metadata": {},
   "outputs": [],
   "source": [
    "import sqlite3\n",
    "\n",
    "con = sqlite3.connect(\"drivedash.db\")      # sits in your project root\n",
    "cur = con.cursor()\n",
    "\n",
    "cur.execute(\"\"\"\n",
    "    CREATE TABLE IF NOT EXISTS raw_events (\n",
    "        device_id      TEXT,\n",
    "        timestamp      TEXT,\n",
    "        variable       TEXT,\n",
    "        value          TEXT\n",
    "    );\n",
    "\"\"\")\n",
    "\n",
    "cur.execute(\"\"\"\n",
    "    INSERT INTO raw_events VALUES ('DEV123', '2025-05-24T18:00:00Z', 'BATTERY', '95.0')\n",
    "\"\"\")\n",
    "con.commit()\n",
    "\n",
    "print(cur.execute(\"SELECT * FROM raw_events\").fetchall())\n",
    "\n",
    "con.close()"
   ]
  },
  {
   "cell_type": "code",
   "execution_count": null,
   "id": "7cfc2d77",
   "metadata": {},
   "outputs": [],
   "source": [
    "import pandas as pd\n",
    "from sqlalchemy import create_engine\n",
    "\n",
    "engine = create_engine(\"sqlite:///drivedash.db\", echo=False)   # ← 3 slashes = relative path\n",
    "\n",
    "# df is your cleaned DataFrame from Telematicsdata.csv\n",
    "df.to_sql(\"clean_events\", engine, if_exists=\"replace\", index=False)\n",
    "\n",
    "# Read back with pure SQL\n",
    "kpis = pd.read_sql(\"SELECT COUNT(*) AS rows, AVG(value) AS avg_val FROM clean_events\", engine)\n",
    "print(kpis)\n"
   ]
  },
  {
   "cell_type": "code",
   "execution_count": null,
   "id": "fec15b85",
   "metadata": {},
   "outputs": [],
   "source": [
    "from sqlalchemy import create_engine\n",
    "from sklearn.model_selection import train_test_split\n",
    "from sklearn.linear_model import LogisticRegression\n",
    "from sklearn.metrics import classification_report\n",
    "import joblib, pathlib\n",
    "\n",
    "engine = create_engine(\"sqlite:///../drivedash.db\")\n",
    "kpi = pd.read_sql(\"SELECT * FROM trip_kpis\", engine)\n",
    "\n",
    "# Binary label: trips with many ignition records → proxy for “active trip”\n",
    "y = (kpi[\"ignition_records\"] >= 50).astype(int)\n",
    "X = kpi[[\"total_records\"]]          # keep it super-simple for now\n",
    "\n",
    "X_tr, X_te, y_tr, y_te = train_test_split(X, y, test_size=0.2, random_state=42)\n",
    "clf = LogisticRegression().fit(X_tr, y_tr)\n",
    "print(classification_report(y_te, clf.predict(X_te)))\n",
    "\n",
    "# save to models/\n",
    "pathlib.Path(\"../models\").mkdir(exist_ok=True)\n",
    "joblib.dump(clf, \"../models/active_trip_lr.pkl\")\n"
   ]
  }
 ],
 "metadata": {
  "kernelspec": {
   "display_name": ".venv",
   "language": "python",
   "name": "python3"
  },
  "language_info": {
   "codemirror_mode": {
    "name": "ipython",
    "version": 3
   },
   "file_extension": ".py",
   "mimetype": "text/x-python",
   "name": "python",
   "nbconvert_exporter": "python",
   "pygments_lexer": "ipython3",
   "version": "3.12.3"
  }
 },
 "nbformat": 4,
 "nbformat_minor": 5
}
